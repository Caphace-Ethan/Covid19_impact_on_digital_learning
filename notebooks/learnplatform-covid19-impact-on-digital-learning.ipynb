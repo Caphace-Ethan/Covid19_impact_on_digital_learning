{
 "cells": [
  {
   "cell_type": "markdown",
   "source": [
    "# Learnplatform Covid19 Impact on Digital Learning\n",
    "\n",
    "## This Notebook is deivided into Two main parts\n",
    "\n",
    "## 1. Data Pre-processing\n",
    "## 2. Exploratory Data Analysis (EDA)"
   ],
   "metadata": {}
  },
  {
   "cell_type": "markdown",
   "source": [
    "## Data Reading and Pre-processing\n",
    "\n",
    "### Importing Required packages and Libraries"
   ],
   "metadata": {}
  },
  {
   "cell_type": "code",
   "execution_count": 2,
   "source": [
    "# Importing necessary packages\n",
    "\n",
    "import numpy as np\n",
    "import pandas as pd\n",
    "import seaborn as sns\n",
    "import matplotlib.pyplot as plt\n",
    "import plotly.express as px\n",
    "import plotly.graph_objects as go\n",
    "from plotly.subplots import make_subplots\n",
    "import re\n",
    "\n",
    "import warnings\n",
    "warnings.filterwarnings(\"ignore\")\n"
   ],
   "outputs": [],
   "metadata": {}
  },
  {
   "cell_type": "markdown",
   "source": [
    "### Path to different Data files, scripts files and files "
   ],
   "metadata": {}
  },
  {
   "cell_type": "code",
   "execution_count": 5,
   "source": [
    "districts_data_path = \"../data/districts_info.csv\"\n",
    "products_data_path = \"../data/products_info.csv\"\n",
    "engagements_data_path = \"../data/engagement_data/\""
   ],
   "outputs": [],
   "metadata": {}
  },
  {
   "cell_type": "markdown",
   "source": [
    "### Loading datasets"
   ],
   "metadata": {}
  },
  {
   "cell_type": "code",
   "execution_count": 8,
   "source": [
    "districts_data = pd.read_csv(districts_data_path)\n",
    "products_data = pd.read_csv(products_data_path)\n",
    "\n",
    "products_data.info()\n",
    "districts_data.info()"
   ],
   "outputs": [
    {
     "output_type": "stream",
     "name": "stdout",
     "text": [
      "<class 'pandas.core.frame.DataFrame'>\n",
      "RangeIndex: 372 entries, 0 to 371\n",
      "Data columns (total 6 columns):\n",
      " #   Column                      Non-Null Count  Dtype \n",
      "---  ------                      --------------  ----- \n",
      " 0   LP ID                       372 non-null    int64 \n",
      " 1   URL                         372 non-null    object\n",
      " 2   Product Name                372 non-null    object\n",
      " 3   Provider/Company Name       371 non-null    object\n",
      " 4   Sector(s)                   352 non-null    object\n",
      " 5   Primary Essential Function  352 non-null    object\n",
      "dtypes: int64(1), object(5)\n",
      "memory usage: 17.6+ KB\n"
     ]
    },
    {
     "output_type": "execute_result",
     "data": {
      "text/plain": [
       "     district_id          state  locale pct_black/hispanic pct_free/reduced  \\\n",
       "37          4520    Connecticut  Suburb           [0, 0.2[       [0.2, 0.4[   \n",
       "192         9357     California    City         [0.4, 0.6[       [0.2, 0.4[   \n",
       "127         5524  Massachusetts   Rural           [0, 0.2[              NaN   \n",
       "197         5422       Missouri    Town           [0, 0.2[       [0.2, 0.4[   \n",
       "\n",
       "    county_connections_ratio    pp_total_raw  \n",
       "37                 [0.18, 1[             NaN  \n",
       "192                [0.18, 1[             NaN  \n",
       "127                [0.18, 1[  [16000, 18000[  \n",
       "197                [0.18, 1[   [8000, 10000[  "
      ],
      "text/html": [
       "<div>\n",
       "<style scoped>\n",
       "    .dataframe tbody tr th:only-of-type {\n",
       "        vertical-align: middle;\n",
       "    }\n",
       "\n",
       "    .dataframe tbody tr th {\n",
       "        vertical-align: top;\n",
       "    }\n",
       "\n",
       "    .dataframe thead th {\n",
       "        text-align: right;\n",
       "    }\n",
       "</style>\n",
       "<table border=\"1\" class=\"dataframe\">\n",
       "  <thead>\n",
       "    <tr style=\"text-align: right;\">\n",
       "      <th></th>\n",
       "      <th>district_id</th>\n",
       "      <th>state</th>\n",
       "      <th>locale</th>\n",
       "      <th>pct_black/hispanic</th>\n",
       "      <th>pct_free/reduced</th>\n",
       "      <th>county_connections_ratio</th>\n",
       "      <th>pp_total_raw</th>\n",
       "    </tr>\n",
       "  </thead>\n",
       "  <tbody>\n",
       "    <tr>\n",
       "      <th>37</th>\n",
       "      <td>4520</td>\n",
       "      <td>Connecticut</td>\n",
       "      <td>Suburb</td>\n",
       "      <td>[0, 0.2[</td>\n",
       "      <td>[0.2, 0.4[</td>\n",
       "      <td>[0.18, 1[</td>\n",
       "      <td>NaN</td>\n",
       "    </tr>\n",
       "    <tr>\n",
       "      <th>192</th>\n",
       "      <td>9357</td>\n",
       "      <td>California</td>\n",
       "      <td>City</td>\n",
       "      <td>[0.4, 0.6[</td>\n",
       "      <td>[0.2, 0.4[</td>\n",
       "      <td>[0.18, 1[</td>\n",
       "      <td>NaN</td>\n",
       "    </tr>\n",
       "    <tr>\n",
       "      <th>127</th>\n",
       "      <td>5524</td>\n",
       "      <td>Massachusetts</td>\n",
       "      <td>Rural</td>\n",
       "      <td>[0, 0.2[</td>\n",
       "      <td>NaN</td>\n",
       "      <td>[0.18, 1[</td>\n",
       "      <td>[16000, 18000[</td>\n",
       "    </tr>\n",
       "    <tr>\n",
       "      <th>197</th>\n",
       "      <td>5422</td>\n",
       "      <td>Missouri</td>\n",
       "      <td>Town</td>\n",
       "      <td>[0, 0.2[</td>\n",
       "      <td>[0.2, 0.4[</td>\n",
       "      <td>[0.18, 1[</td>\n",
       "      <td>[8000, 10000[</td>\n",
       "    </tr>\n",
       "  </tbody>\n",
       "</table>\n",
       "</div>"
      ]
     },
     "metadata": {},
     "execution_count": 8
    }
   ],
   "metadata": {}
  }
 ],
 "metadata": {
  "orig_nbformat": 4,
  "language_info": {
   "name": "python",
   "version": "3.8.8",
   "mimetype": "text/x-python",
   "codemirror_mode": {
    "name": "ipython",
    "version": 3
   },
   "pygments_lexer": "ipython3",
   "nbconvert_exporter": "python",
   "file_extension": ".py"
  },
  "kernelspec": {
   "name": "python3",
   "display_name": "Python 3.8.8 64-bit ('base': conda)"
  },
  "interpreter": {
   "hash": "fc5b00bee59e553d508db9922ccda4ed2426092ffdded382ff87e02c7f5799df"
  }
 },
 "nbformat": 4,
 "nbformat_minor": 2
}