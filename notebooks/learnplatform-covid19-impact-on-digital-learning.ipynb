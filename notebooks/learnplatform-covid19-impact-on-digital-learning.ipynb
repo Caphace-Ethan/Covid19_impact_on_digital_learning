{
 "cells": [
  {
   "cell_type": "markdown",
   "source": [
    "# Learnplatform Covid19 Impact on Digital Learning\n",
    "\n",
    "## This Notebook is deivided into Two main parts\n",
    "\n",
    "### 1. Data Pre-processing\n",
    "### 2. Exploratory Data Analysis (EDA)"
   ],
   "metadata": {}
  },
  {
   "cell_type": "markdown",
   "source": [
    "## Data Reading and Pre-processing\n",
    "\n",
    "### Importing Required packages and Libraries"
   ],
   "metadata": {}
  },
  {
   "cell_type": "code",
   "execution_count": 2,
   "source": [
    "# Importing necessary packages\n",
    "\n",
    "import numpy as np\n",
    "import pandas as pd\n",
    "import seaborn as sns\n",
    "import matplotlib.pyplot as plt\n",
    "import plotly.express as px\n",
    "import plotly.graph_objects as go\n",
    "from plotly.subplots import make_subplots\n",
    "import re\n",
    "\n",
    "import warnings\n",
    "warnings.filterwarnings(\"ignore\")\n"
   ],
   "outputs": [],
   "metadata": {}
  },
  {
   "cell_type": "markdown",
   "source": [
    "### Path to different Data files, scripts files and files "
   ],
   "metadata": {}
  },
  {
   "cell_type": "code",
   "execution_count": 3,
   "source": [
    "districts_data_path = \"../data/districts_info.csv\"\n",
    "products_data_path = \"../data/products_info.csv\"\n",
    "engagements_data_path = \"../data/engagement_data/\""
   ],
   "outputs": [],
   "metadata": {}
  },
  {
   "cell_type": "markdown",
   "source": [
    "### Loading datasets"
   ],
   "metadata": {}
  },
  {
   "cell_type": "code",
   "execution_count": 5,
   "source": [
    "districts_data = pd.read_csv(districts_data_path)\n",
    "products_data = pd.read_csv(products_data_path)\n",
    "\n",
    "products_data.info()\n",
    "districts_data.info()\n",
    "print(f\" Shape of Products_data: {products_data.shape}, and that of District_data is: {districts_data.shape}\")"
   ],
   "outputs": [
    {
     "name": "stdout",
     "output_type": "stream",
     "text": [
      "<class 'pandas.core.frame.DataFrame'>\n",
      "RangeIndex: 372 entries, 0 to 371\n",
      "Data columns (total 6 columns):\n",
      " #   Column                      Non-Null Count  Dtype \n",
      "---  ------                      --------------  ----- \n",
      " 0   LP ID                       372 non-null    int64 \n",
      " 1   URL                         372 non-null    object\n",
      " 2   Product Name                372 non-null    object\n",
      " 3   Provider/Company Name       371 non-null    object\n",
      " 4   Sector(s)                   352 non-null    object\n",
      " 5   Primary Essential Function  352 non-null    object\n",
      "dtypes: int64(1), object(5)\n",
      "memory usage: 17.6+ KB\n",
      "<class 'pandas.core.frame.DataFrame'>\n",
      "RangeIndex: 233 entries, 0 to 232\n",
      "Data columns (total 7 columns):\n",
      " #   Column                    Non-Null Count  Dtype \n",
      "---  ------                    --------------  ----- \n",
      " 0   district_id               233 non-null    int64 \n",
      " 1   state                     176 non-null    object\n",
      " 2   locale                    176 non-null    object\n",
      " 3   pct_black/hispanic        176 non-null    object\n",
      " 4   pct_free/reduced          148 non-null    object\n",
      " 5   county_connections_ratio  162 non-null    object\n",
      " 6   pp_total_raw              118 non-null    object\n",
      "dtypes: int64(1), object(6)\n",
      "memory usage: 12.9+ KB\n",
      " Shape of Products_data: (372, 6), and that of District_data is: (233, 7)\n"
     ]
    }
   ],
   "metadata": {}
  },
  {
   "cell_type": "markdown",
   "source": [
    "### Showing sample data"
   ],
   "metadata": {}
  },
  {
   "cell_type": "code",
   "execution_count": 7,
   "source": [
    "products_data.sample(10)"
   ],
   "outputs": [
    {
     "data": {
      "text/plain": "     LP ID                                                URL  \\\n371  36254                     http://www.truenorthlogic.com/   \n349  70878            https://musiclab.chromeexperiments.com/   \n216  70167  https://www.microsoft.com/en-us/download/detai...   \n329  54110                           https://www.pandora.com/   \n167  78063                         https://www.classlink.com/   \n82   16468                           http://www.archives.gov/   \n362  70706                        https://canvas.apps.chrome/   \n156  58235                                 http://ed.ted.com/   \n280  16401                               https://www.pbs.org/   \n337  37948                          https://www.docusign.com/   \n\n                  Product Name            Provider/Company Name  \\\n371           True North Logic                              NaN   \n349           CHROME MUSIC LAB                       Google LLC   \n216  Microsoft XNA Game Studio                        Microsoft   \n329                    Pandora               Pandora Media, LLC   \n167                  ClassLink                        ClassLink   \n82           National Archives  United States National Archives   \n362          Canvas for Chrome             Canvas Talent, Inc.    \n156                      TedEd                  TED Conferences   \n280                        PBS                              PBS   \n337                   DocuSign                     DocuSign Inc   \n\n                         Sector(s)  \\\n371                            NaN   \n349             PreK-12; Higher Ed   \n216  PreK-12; Higher Ed; Corporate   \n329             PreK-12; Higher Ed   \n167             PreK-12; Higher Ed   \n82              PreK-12; Higher Ed   \n362  PreK-12; Higher Ed; Corporate   \n156             PreK-12; Higher Ed   \n280  PreK-12; Higher Ed; Corporate   \n337  PreK-12; Higher Ed; Corporate   \n\n                            Primary Essential Function  \n371                                                NaN  \n349                   LC - Content Creation & Curation  \n216                   LC - Content Creation & Curation  \n329  LC - Sites, Resources & Reference - Streaming ...  \n167             SDO - School Management Software - SSO  \n82   LC - Sites, Resources & Reference - Digital Co...  \n362                   LC - Content Creation & Curation  \n156                  LC - Sites, Resources & Reference  \n280                  LC - Sites, Resources & Reference  \n337                                        SDO - Other  ",
      "text/html": "<div>\n<style scoped>\n    .dataframe tbody tr th:only-of-type {\n        vertical-align: middle;\n    }\n\n    .dataframe tbody tr th {\n        vertical-align: top;\n    }\n\n    .dataframe thead th {\n        text-align: right;\n    }\n</style>\n<table border=\"1\" class=\"dataframe\">\n  <thead>\n    <tr style=\"text-align: right;\">\n      <th></th>\n      <th>LP ID</th>\n      <th>URL</th>\n      <th>Product Name</th>\n      <th>Provider/Company Name</th>\n      <th>Sector(s)</th>\n      <th>Primary Essential Function</th>\n    </tr>\n  </thead>\n  <tbody>\n    <tr>\n      <th>371</th>\n      <td>36254</td>\n      <td>http://www.truenorthlogic.com/</td>\n      <td>True North Logic</td>\n      <td>NaN</td>\n      <td>NaN</td>\n      <td>NaN</td>\n    </tr>\n    <tr>\n      <th>349</th>\n      <td>70878</td>\n      <td>https://musiclab.chromeexperiments.com/</td>\n      <td>CHROME MUSIC LAB</td>\n      <td>Google LLC</td>\n      <td>PreK-12; Higher Ed</td>\n      <td>LC - Content Creation &amp; Curation</td>\n    </tr>\n    <tr>\n      <th>216</th>\n      <td>70167</td>\n      <td>https://www.microsoft.com/en-us/download/detai...</td>\n      <td>Microsoft XNA Game Studio</td>\n      <td>Microsoft</td>\n      <td>PreK-12; Higher Ed; Corporate</td>\n      <td>LC - Content Creation &amp; Curation</td>\n    </tr>\n    <tr>\n      <th>329</th>\n      <td>54110</td>\n      <td>https://www.pandora.com/</td>\n      <td>Pandora</td>\n      <td>Pandora Media, LLC</td>\n      <td>PreK-12; Higher Ed</td>\n      <td>LC - Sites, Resources &amp; Reference - Streaming ...</td>\n    </tr>\n    <tr>\n      <th>167</th>\n      <td>78063</td>\n      <td>https://www.classlink.com/</td>\n      <td>ClassLink</td>\n      <td>ClassLink</td>\n      <td>PreK-12; Higher Ed</td>\n      <td>SDO - School Management Software - SSO</td>\n    </tr>\n    <tr>\n      <th>82</th>\n      <td>16468</td>\n      <td>http://www.archives.gov/</td>\n      <td>National Archives</td>\n      <td>United States National Archives</td>\n      <td>PreK-12; Higher Ed</td>\n      <td>LC - Sites, Resources &amp; Reference - Digital Co...</td>\n    </tr>\n    <tr>\n      <th>362</th>\n      <td>70706</td>\n      <td>https://canvas.apps.chrome/</td>\n      <td>Canvas for Chrome</td>\n      <td>Canvas Talent, Inc.</td>\n      <td>PreK-12; Higher Ed; Corporate</td>\n      <td>LC - Content Creation &amp; Curation</td>\n    </tr>\n    <tr>\n      <th>156</th>\n      <td>58235</td>\n      <td>http://ed.ted.com/</td>\n      <td>TedEd</td>\n      <td>TED Conferences</td>\n      <td>PreK-12; Higher Ed</td>\n      <td>LC - Sites, Resources &amp; Reference</td>\n    </tr>\n    <tr>\n      <th>280</th>\n      <td>16401</td>\n      <td>https://www.pbs.org/</td>\n      <td>PBS</td>\n      <td>PBS</td>\n      <td>PreK-12; Higher Ed; Corporate</td>\n      <td>LC - Sites, Resources &amp; Reference</td>\n    </tr>\n    <tr>\n      <th>337</th>\n      <td>37948</td>\n      <td>https://www.docusign.com/</td>\n      <td>DocuSign</td>\n      <td>DocuSign Inc</td>\n      <td>PreK-12; Higher Ed; Corporate</td>\n      <td>SDO - Other</td>\n    </tr>\n  </tbody>\n</table>\n</div>"
     },
     "execution_count": 7,
     "metadata": {},
     "output_type": "execute_result"
    }
   ],
   "metadata": {}
  },
  {
   "cell_type": "code",
   "execution_count": 71,
   "source": [
    "districts_data.sample(4)"
   ],
   "outputs": [
    {
     "output_type": "execute_result",
     "data": {
      "text/plain": [
       "     district_id          state  locale pct_black/hispanic pct_free/reduced  \\\n",
       "22          2167     Washington  Suburb           [0, 0.2[         [0, 0.2[   \n",
       "161         4314  New Hampshire   Rural           [0, 0.2[       [0.2, 0.4[   \n",
       "27          7785    Connecticut  Suburb           [0, 0.2[         [0, 0.2[   \n",
       "88          8937       Illinois   Rural           [0, 0.2[         [0, 0.2[   \n",
       "\n",
       "    county_connections_ratio    pp_total_raw  \n",
       "22                 [0.18, 1[  [14000, 16000[  \n",
       "161                [0.18, 1[             NaN  \n",
       "27                 [0.18, 1[             NaN  \n",
       "88                 [0.18, 1[  [12000, 14000[  "
      ],
      "text/html": [
       "<div>\n",
       "<style scoped>\n",
       "    .dataframe tbody tr th:only-of-type {\n",
       "        vertical-align: middle;\n",
       "    }\n",
       "\n",
       "    .dataframe tbody tr th {\n",
       "        vertical-align: top;\n",
       "    }\n",
       "\n",
       "    .dataframe thead th {\n",
       "        text-align: right;\n",
       "    }\n",
       "</style>\n",
       "<table border=\"1\" class=\"dataframe\">\n",
       "  <thead>\n",
       "    <tr style=\"text-align: right;\">\n",
       "      <th></th>\n",
       "      <th>district_id</th>\n",
       "      <th>state</th>\n",
       "      <th>locale</th>\n",
       "      <th>pct_black/hispanic</th>\n",
       "      <th>pct_free/reduced</th>\n",
       "      <th>county_connections_ratio</th>\n",
       "      <th>pp_total_raw</th>\n",
       "    </tr>\n",
       "  </thead>\n",
       "  <tbody>\n",
       "    <tr>\n",
       "      <th>22</th>\n",
       "      <td>2167</td>\n",
       "      <td>Washington</td>\n",
       "      <td>Suburb</td>\n",
       "      <td>[0, 0.2[</td>\n",
       "      <td>[0, 0.2[</td>\n",
       "      <td>[0.18, 1[</td>\n",
       "      <td>[14000, 16000[</td>\n",
       "    </tr>\n",
       "    <tr>\n",
       "      <th>161</th>\n",
       "      <td>4314</td>\n",
       "      <td>New Hampshire</td>\n",
       "      <td>Rural</td>\n",
       "      <td>[0, 0.2[</td>\n",
       "      <td>[0.2, 0.4[</td>\n",
       "      <td>[0.18, 1[</td>\n",
       "      <td>NaN</td>\n",
       "    </tr>\n",
       "    <tr>\n",
       "      <th>27</th>\n",
       "      <td>7785</td>\n",
       "      <td>Connecticut</td>\n",
       "      <td>Suburb</td>\n",
       "      <td>[0, 0.2[</td>\n",
       "      <td>[0, 0.2[</td>\n",
       "      <td>[0.18, 1[</td>\n",
       "      <td>NaN</td>\n",
       "    </tr>\n",
       "    <tr>\n",
       "      <th>88</th>\n",
       "      <td>8937</td>\n",
       "      <td>Illinois</td>\n",
       "      <td>Rural</td>\n",
       "      <td>[0, 0.2[</td>\n",
       "      <td>[0, 0.2[</td>\n",
       "      <td>[0.18, 1[</td>\n",
       "      <td>[12000, 14000[</td>\n",
       "    </tr>\n",
       "  </tbody>\n",
       "</table>\n",
       "</div>"
      ]
     },
     "metadata": {},
     "execution_count": 71
    }
   ],
   "metadata": {}
  },
  {
   "cell_type": "markdown",
   "source": [
    "### Calculating the Missing Values, NA"
   ],
   "metadata": {}
  },
  {
   "cell_type": "code",
   "execution_count": 65,
   "source": [
    "# Functions to Calculate Missing Values and droping columns\n",
    "\n",
    "def drop_columns(self, df, column_list):\n",
    "        df_new = df.drop(column_list, axis=1)\n",
    "\n",
    "        return df_new\n",
    "\n",
    "def total_percent_missing_data(df):\n",
    "\n",
    "        # Calculate total number of cells in dataframe\n",
    "        totalCells = np.product(df.shape)\n",
    "\n",
    "        # Count number of missing values per column\n",
    "        missingCount = df.isnull().sum()\n",
    "\n",
    "        # Calculate total number of missing values\n",
    "        totalMissing = missingCount.sum()\n",
    "\n",
    "        # Calculate percentage of missing values\n",
    "        return round(((totalMissing/totalCells) * 100), 2)\n",
    "\n",
    "\n",
    "def missing_data_per_column(df):\n",
    "        item_list = []\n",
    "        row_list = []\n",
    "        new_columns=['Column', 'No. of Missing Values', '% Missing Values per column']\n",
    "        total_no_data_per_column = df.shape[0]-1\n",
    "        i=0\n",
    "        for item in df.columns:\n",
    "            no_missing_values = df[item].isna().sum()\n",
    "            percentage = str(round(((no_missing_values/total_no_data_per_column) * 100), 2))+\" %\"\n",
    "            row_list.append(item)\n",
    "            row_list.append(no_missing_values)\n",
    "            row_list.append(percentage)\n",
    "            item_list.append(row_list)\n",
    "            row_list = []\n",
    "\n",
    "        df_data = pd.DataFrame(item_list, columns = new_columns)\n",
    "        return df_data\n",
    "\n",
    "\n",
    "missing_values = total_percent_missing_data(districts_data)\n",
    "missing_df = missing_data_per_column(districts_data)\n",
    "\n",
    "print(f\" Summary of Missing Values in districts_data : {missing_values} %\")\n",
    "print(\"Missing values per column in districts_data\")\n",
    "missing_df"
   ],
   "outputs": [
    {
     "output_type": "stream",
     "name": "stdout",
     "text": [
      " Summary of Missing Values in districts_data : 27.1 %\n",
      "Missing values per column in districts_data\n"
     ]
    },
    {
     "output_type": "execute_result",
     "data": {
      "text/plain": [
       "                     Column  No. of Missing Values % Missing Values per column\n",
       "0               district_id                      0                       0.0 %\n",
       "1                     state                     57                     24.57 %\n",
       "2                    locale                     57                     24.57 %\n",
       "3        pct_black/hispanic                     57                     24.57 %\n",
       "4          pct_free/reduced                     85                     36.64 %\n",
       "5  county_connections_ratio                     71                      30.6 %\n",
       "6              pp_total_raw                    115                     49.57 %"
      ],
      "text/html": [
       "<div>\n",
       "<style scoped>\n",
       "    .dataframe tbody tr th:only-of-type {\n",
       "        vertical-align: middle;\n",
       "    }\n",
       "\n",
       "    .dataframe tbody tr th {\n",
       "        vertical-align: top;\n",
       "    }\n",
       "\n",
       "    .dataframe thead th {\n",
       "        text-align: right;\n",
       "    }\n",
       "</style>\n",
       "<table border=\"1\" class=\"dataframe\">\n",
       "  <thead>\n",
       "    <tr style=\"text-align: right;\">\n",
       "      <th></th>\n",
       "      <th>Column</th>\n",
       "      <th>No. of Missing Values</th>\n",
       "      <th>% Missing Values per column</th>\n",
       "    </tr>\n",
       "  </thead>\n",
       "  <tbody>\n",
       "    <tr>\n",
       "      <th>0</th>\n",
       "      <td>district_id</td>\n",
       "      <td>0</td>\n",
       "      <td>0.0 %</td>\n",
       "    </tr>\n",
       "    <tr>\n",
       "      <th>1</th>\n",
       "      <td>state</td>\n",
       "      <td>57</td>\n",
       "      <td>24.57 %</td>\n",
       "    </tr>\n",
       "    <tr>\n",
       "      <th>2</th>\n",
       "      <td>locale</td>\n",
       "      <td>57</td>\n",
       "      <td>24.57 %</td>\n",
       "    </tr>\n",
       "    <tr>\n",
       "      <th>3</th>\n",
       "      <td>pct_black/hispanic</td>\n",
       "      <td>57</td>\n",
       "      <td>24.57 %</td>\n",
       "    </tr>\n",
       "    <tr>\n",
       "      <th>4</th>\n",
       "      <td>pct_free/reduced</td>\n",
       "      <td>85</td>\n",
       "      <td>36.64 %</td>\n",
       "    </tr>\n",
       "    <tr>\n",
       "      <th>5</th>\n",
       "      <td>county_connections_ratio</td>\n",
       "      <td>71</td>\n",
       "      <td>30.6 %</td>\n",
       "    </tr>\n",
       "    <tr>\n",
       "      <th>6</th>\n",
       "      <td>pp_total_raw</td>\n",
       "      <td>115</td>\n",
       "      <td>49.57 %</td>\n",
       "    </tr>\n",
       "  </tbody>\n",
       "</table>\n",
       "</div>"
      ]
     },
     "metadata": {},
     "execution_count": 65
    }
   ],
   "metadata": {}
  },
  {
   "cell_type": "code",
   "execution_count": 67,
   "source": [
    "# Checking for Pattern in Missing Values\n",
    "nan_rows = districts_data[districts_data['state'].isna() & districts_data['locale'].isna()]\n",
    "nan_rows1 = districts_data[districts_data['state'].isna()].count().sum()\n",
    "nan_rows2 = districts_data[districts_data['state'].isna() & districts_data['locale'].isna() & districts_data['pct_black/hispanic'].isna() & districts_data['pct_free/reduced'].isna() & districts_data['county_connections_ratio'].isna() & districts_data['pp_total_raw'].isna()].count().sum()\n",
    "print(f\" The number of columns with Missing 'state' values and Missinng all columns except 'district_id' are:  {nan_rows1}, {nan_rows2}\")\n",
    "nan_rows.sample(10)"
   ],
   "outputs": [
    {
     "output_type": "stream",
     "name": "stdout",
     "text": [
      " The number of columns with Missing 'state' values and Missinng all columns except 'district_id' are:  57, 57\n"
     ]
    },
    {
     "output_type": "execute_result",
     "data": {
      "text/plain": [
       "     district_id state locale pct_black/hispanic pct_free/reduced  \\\n",
       "174         8796   NaN    NaN                NaN              NaN   \n",
       "164         1039   NaN    NaN                NaN              NaN   \n",
       "162         4937   NaN    NaN                NaN              NaN   \n",
       "23          9120   NaN    NaN                NaN              NaN   \n",
       "222         9463   NaN    NaN                NaN              NaN   \n",
       "199         4165   NaN    NaN                NaN              NaN   \n",
       "215         3390   NaN    NaN                NaN              NaN   \n",
       "106         3371   NaN    NaN                NaN              NaN   \n",
       "216         5404   NaN    NaN                NaN              NaN   \n",
       "3           3188   NaN    NaN                NaN              NaN   \n",
       "\n",
       "    county_connections_ratio pp_total_raw  \n",
       "174                      NaN          NaN  \n",
       "164                      NaN          NaN  \n",
       "162                      NaN          NaN  \n",
       "23                       NaN          NaN  \n",
       "222                      NaN          NaN  \n",
       "199                      NaN          NaN  \n",
       "215                      NaN          NaN  \n",
       "106                      NaN          NaN  \n",
       "216                      NaN          NaN  \n",
       "3                        NaN          NaN  "
      ],
      "text/html": [
       "<div>\n",
       "<style scoped>\n",
       "    .dataframe tbody tr th:only-of-type {\n",
       "        vertical-align: middle;\n",
       "    }\n",
       "\n",
       "    .dataframe tbody tr th {\n",
       "        vertical-align: top;\n",
       "    }\n",
       "\n",
       "    .dataframe thead th {\n",
       "        text-align: right;\n",
       "    }\n",
       "</style>\n",
       "<table border=\"1\" class=\"dataframe\">\n",
       "  <thead>\n",
       "    <tr style=\"text-align: right;\">\n",
       "      <th></th>\n",
       "      <th>district_id</th>\n",
       "      <th>state</th>\n",
       "      <th>locale</th>\n",
       "      <th>pct_black/hispanic</th>\n",
       "      <th>pct_free/reduced</th>\n",
       "      <th>county_connections_ratio</th>\n",
       "      <th>pp_total_raw</th>\n",
       "    </tr>\n",
       "  </thead>\n",
       "  <tbody>\n",
       "    <tr>\n",
       "      <th>174</th>\n",
       "      <td>8796</td>\n",
       "      <td>NaN</td>\n",
       "      <td>NaN</td>\n",
       "      <td>NaN</td>\n",
       "      <td>NaN</td>\n",
       "      <td>NaN</td>\n",
       "      <td>NaN</td>\n",
       "    </tr>\n",
       "    <tr>\n",
       "      <th>164</th>\n",
       "      <td>1039</td>\n",
       "      <td>NaN</td>\n",
       "      <td>NaN</td>\n",
       "      <td>NaN</td>\n",
       "      <td>NaN</td>\n",
       "      <td>NaN</td>\n",
       "      <td>NaN</td>\n",
       "    </tr>\n",
       "    <tr>\n",
       "      <th>162</th>\n",
       "      <td>4937</td>\n",
       "      <td>NaN</td>\n",
       "      <td>NaN</td>\n",
       "      <td>NaN</td>\n",
       "      <td>NaN</td>\n",
       "      <td>NaN</td>\n",
       "      <td>NaN</td>\n",
       "    </tr>\n",
       "    <tr>\n",
       "      <th>23</th>\n",
       "      <td>9120</td>\n",
       "      <td>NaN</td>\n",
       "      <td>NaN</td>\n",
       "      <td>NaN</td>\n",
       "      <td>NaN</td>\n",
       "      <td>NaN</td>\n",
       "      <td>NaN</td>\n",
       "    </tr>\n",
       "    <tr>\n",
       "      <th>222</th>\n",
       "      <td>9463</td>\n",
       "      <td>NaN</td>\n",
       "      <td>NaN</td>\n",
       "      <td>NaN</td>\n",
       "      <td>NaN</td>\n",
       "      <td>NaN</td>\n",
       "      <td>NaN</td>\n",
       "    </tr>\n",
       "    <tr>\n",
       "      <th>199</th>\n",
       "      <td>4165</td>\n",
       "      <td>NaN</td>\n",
       "      <td>NaN</td>\n",
       "      <td>NaN</td>\n",
       "      <td>NaN</td>\n",
       "      <td>NaN</td>\n",
       "      <td>NaN</td>\n",
       "    </tr>\n",
       "    <tr>\n",
       "      <th>215</th>\n",
       "      <td>3390</td>\n",
       "      <td>NaN</td>\n",
       "      <td>NaN</td>\n",
       "      <td>NaN</td>\n",
       "      <td>NaN</td>\n",
       "      <td>NaN</td>\n",
       "      <td>NaN</td>\n",
       "    </tr>\n",
       "    <tr>\n",
       "      <th>106</th>\n",
       "      <td>3371</td>\n",
       "      <td>NaN</td>\n",
       "      <td>NaN</td>\n",
       "      <td>NaN</td>\n",
       "      <td>NaN</td>\n",
       "      <td>NaN</td>\n",
       "      <td>NaN</td>\n",
       "    </tr>\n",
       "    <tr>\n",
       "      <th>216</th>\n",
       "      <td>5404</td>\n",
       "      <td>NaN</td>\n",
       "      <td>NaN</td>\n",
       "      <td>NaN</td>\n",
       "      <td>NaN</td>\n",
       "      <td>NaN</td>\n",
       "      <td>NaN</td>\n",
       "    </tr>\n",
       "    <tr>\n",
       "      <th>3</th>\n",
       "      <td>3188</td>\n",
       "      <td>NaN</td>\n",
       "      <td>NaN</td>\n",
       "      <td>NaN</td>\n",
       "      <td>NaN</td>\n",
       "      <td>NaN</td>\n",
       "      <td>NaN</td>\n",
       "    </tr>\n",
       "  </tbody>\n",
       "</table>\n",
       "</div>"
      ]
     },
     "metadata": {},
     "execution_count": 67
    }
   ],
   "metadata": {}
  },
  {
   "cell_type": "markdown",
   "source": [
    "### It can be concluded, that all data that have missing state, have also missing locale, pct_black/hispanic, pct_free/reduced, county_connections_ratio, pp_total_raw"
   ],
   "metadata": {}
  },
  {
   "cell_type": "markdown",
   "source": [
    "### Droping rows having null values"
   ],
   "metadata": {}
  },
  {
   "cell_type": "code",
   "execution_count": 68,
   "source": [
    "# Droping all rows with null values in state, locale, etc\n",
    "districts_data = districts_data[districts_data.state.notna()].reset_index(drop=True)\n",
    "districts_data.info()"
   ],
   "outputs": [
    {
     "output_type": "stream",
     "name": "stdout",
     "text": [
      "<class 'pandas.core.frame.DataFrame'>\n",
      "RangeIndex: 176 entries, 0 to 175\n",
      "Data columns (total 7 columns):\n",
      " #   Column                    Non-Null Count  Dtype \n",
      "---  ------                    --------------  ----- \n",
      " 0   district_id               176 non-null    int64 \n",
      " 1   state                     176 non-null    object\n",
      " 2   locale                    176 non-null    object\n",
      " 3   pct_black/hispanic        176 non-null    object\n",
      " 4   pct_free/reduced          148 non-null    object\n",
      " 5   county_connections_ratio  162 non-null    object\n",
      " 6   pp_total_raw              118 non-null    object\n",
      "dtypes: int64(1), object(6)\n",
      "memory usage: 9.8+ KB\n"
     ]
    }
   ],
   "metadata": {}
  },
  {
   "cell_type": "code",
   "execution_count": 69,
   "source": [
    "missing_values = total_percent_missing_data(products_data)\n",
    "missing_df = missing_data_per_column(products_data)\n",
    "\n",
    "print(f\" Summary of Missing Values in products_data : {missing_values} %\")\n",
    "print(\"Missing values per column in products_data\")\n",
    "missing_df"
   ],
   "outputs": [
    {
     "output_type": "stream",
     "name": "stdout",
     "text": [
      " Summary of Missing Values in products_data : 1.84 %\n",
      "Missing values per column in products_data\n"
     ]
    },
    {
     "output_type": "execute_result",
     "data": {
      "text/plain": [
       "                       Column  No. of Missing Values  \\\n",
       "0                       LP ID                      0   \n",
       "1                         URL                      0   \n",
       "2                Product Name                      0   \n",
       "3       Provider/Company Name                      1   \n",
       "4                   Sector(s)                     20   \n",
       "5  Primary Essential Function                     20   \n",
       "\n",
       "  % Missing Values per column  \n",
       "0                       0.0 %  \n",
       "1                       0.0 %  \n",
       "2                       0.0 %  \n",
       "3                      0.27 %  \n",
       "4                      5.39 %  \n",
       "5                      5.39 %  "
      ],
      "text/html": [
       "<div>\n",
       "<style scoped>\n",
       "    .dataframe tbody tr th:only-of-type {\n",
       "        vertical-align: middle;\n",
       "    }\n",
       "\n",
       "    .dataframe tbody tr th {\n",
       "        vertical-align: top;\n",
       "    }\n",
       "\n",
       "    .dataframe thead th {\n",
       "        text-align: right;\n",
       "    }\n",
       "</style>\n",
       "<table border=\"1\" class=\"dataframe\">\n",
       "  <thead>\n",
       "    <tr style=\"text-align: right;\">\n",
       "      <th></th>\n",
       "      <th>Column</th>\n",
       "      <th>No. of Missing Values</th>\n",
       "      <th>% Missing Values per column</th>\n",
       "    </tr>\n",
       "  </thead>\n",
       "  <tbody>\n",
       "    <tr>\n",
       "      <th>0</th>\n",
       "      <td>LP ID</td>\n",
       "      <td>0</td>\n",
       "      <td>0.0 %</td>\n",
       "    </tr>\n",
       "    <tr>\n",
       "      <th>1</th>\n",
       "      <td>URL</td>\n",
       "      <td>0</td>\n",
       "      <td>0.0 %</td>\n",
       "    </tr>\n",
       "    <tr>\n",
       "      <th>2</th>\n",
       "      <td>Product Name</td>\n",
       "      <td>0</td>\n",
       "      <td>0.0 %</td>\n",
       "    </tr>\n",
       "    <tr>\n",
       "      <th>3</th>\n",
       "      <td>Provider/Company Name</td>\n",
       "      <td>1</td>\n",
       "      <td>0.27 %</td>\n",
       "    </tr>\n",
       "    <tr>\n",
       "      <th>4</th>\n",
       "      <td>Sector(s)</td>\n",
       "      <td>20</td>\n",
       "      <td>5.39 %</td>\n",
       "    </tr>\n",
       "    <tr>\n",
       "      <th>5</th>\n",
       "      <td>Primary Essential Function</td>\n",
       "      <td>20</td>\n",
       "      <td>5.39 %</td>\n",
       "    </tr>\n",
       "  </tbody>\n",
       "</table>\n",
       "</div>"
      ]
     },
     "metadata": {},
     "execution_count": 69
    }
   ],
   "metadata": {}
  },
  {
   "cell_type": "markdown",
   "source": [
    "### Filling Missing Values, Using Median values"
   ],
   "metadata": {
    "collapsed": false
   }
  },
  {
   "cell_type": "code",
   "execution_count": 21,
   "outputs": [
    {
     "data": {
      "text/plain": "array(['PreK-12', 'PreK-12; Higher Ed', 'PreK-12; Higher Ed; Corporate',\n       nan, 'Corporate', 'Higher Ed; Corporate'], dtype=object)"
     },
     "execution_count": 21,
     "metadata": {},
     "output_type": "execute_result"
    }
   ],
   "source": [
    "districts_data['pp_total_raw']\n",
    "products_data['Sector(s)'].unique()"
   ],
   "metadata": {
    "collapsed": false,
    "pycharm": {
     "name": "#%%\n"
    }
   }
  }
 ],
 "metadata": {
  "orig_nbformat": 4,
  "language_info": {
   "name": "python",
   "version": "3.8.8",
   "mimetype": "text/x-python",
   "codemirror_mode": {
    "name": "ipython",
    "version": 3
   },
   "pygments_lexer": "ipython3",
   "nbconvert_exporter": "python",
   "file_extension": ".py"
  },
  "kernelspec": {
   "name": "pycharm-f467d50b",
   "language": "python",
   "display_name": "PyCharm (Covid19_impact_on_digital_learning)"
  },
  "interpreter": {
   "hash": "fc5b00bee59e553d508db9922ccda4ed2426092ffdded382ff87e02c7f5799df"
  }
 },
 "nbformat": 4,
 "nbformat_minor": 2
}