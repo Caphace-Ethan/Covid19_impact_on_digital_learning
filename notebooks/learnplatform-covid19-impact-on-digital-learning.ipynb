{
 "cells": [
  {
   "cell_type": "markdown",
   "source": [
    "# Learnplatform Covid19 Impact on Digital Learning\n",
    "\n",
    "## This Notebook is deivided into Two main parts\n",
    "\n",
    "## 1. Data Pre-processing\n",
    "## 2. Exploratory Data Analysis (EDA)"
   ],
   "metadata": {}
  },
  {
   "cell_type": "markdown",
   "source": [
    "## Data Reading and Pre-processing\n",
    "\n",
    "### Importing Required packages and Libraries"
   ],
   "metadata": {}
  },
  {
   "cell_type": "code",
   "execution_count": null,
   "source": [
    "# Importing necessary packages"
   ],
   "outputs": [],
   "metadata": {}
  }
 ],
 "metadata": {
  "orig_nbformat": 4,
  "language_info": {
   "name": "python",
   "version": "3.8.8"
  },
  "kernelspec": {
   "name": "python3",
   "display_name": "Python 3.8.8 64-bit ('base': conda)"
  },
  "interpreter": {
   "hash": "fc5b00bee59e553d508db9922ccda4ed2426092ffdded382ff87e02c7f5799df"
  }
 },
 "nbformat": 4,
 "nbformat_minor": 2
}